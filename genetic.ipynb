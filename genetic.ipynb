{
 "cells": [
  {
   "cell_type": "code",
   "execution_count": 11,
   "metadata": {},
   "outputs": [],
   "source": [
    "import math \n",
    "import pandas as pd\n",
    "import random"
   ]
  },
  {
   "cell_type": "code",
   "execution_count": 2,
   "metadata": {},
   "outputs": [],
   "source": [
    "def haversine_distance(lat1, lng1, lat2, lng2):\n",
    "    latRadian1 = math.radians(lat1)\n",
    "    lngRadian1 = math.radians(lng1)\n",
    "    latRadian2 = math.radians(lat2)\n",
    "    lngRadian2 = math.radians(lng2)\n",
    "\n",
    "    dlat = latRadian2 - latRadian1\n",
    "    dlng = lngRadian2 - lngRadian1\n",
    "    R = 6371e3\n",
    "\n",
    "    a = math.sin(dlat/2) ** 2 + math.cos(lat1) * math.cos(lat2) * math.sin(dlng/2) ** 2\n",
    "    c = 2 * math.atan2(math.sqrt(a), math.sqrt(1 - a))\n",
    "    \n",
    "    return R * c\n"
   ]
  },
  {
   "cell_type": "code",
   "execution_count": 4,
   "metadata": {},
   "outputs": [],
   "source": [
    "# Cloudy Phan Dang Luu\n",
    "latInit = 16.036783384151843\n",
    "lngInit = 108.21435304207014"
   ]
  },
  {
   "cell_type": "code",
   "execution_count": 6,
   "metadata": {},
   "outputs": [
    {
     "data": {
      "text/html": [
       "<div>\n",
       "<style scoped>\n",
       "    .dataframe tbody tr th:only-of-type {\n",
       "        vertical-align: middle;\n",
       "    }\n",
       "\n",
       "    .dataframe tbody tr th {\n",
       "        vertical-align: top;\n",
       "    }\n",
       "\n",
       "    .dataframe thead th {\n",
       "        text-align: right;\n",
       "    }\n",
       "</style>\n",
       "<table border=\"1\" class=\"dataframe\">\n",
       "  <thead>\n",
       "    <tr style=\"text-align: right;\">\n",
       "      <th></th>\n",
       "      <th>ID</th>\n",
       "      <th>Name</th>\n",
       "      <th>Address</th>\n",
       "      <th>Latitude</th>\n",
       "      <th>Longitude</th>\n",
       "      <th>Opening Hours</th>\n",
       "      <th>Types</th>\n",
       "      <th>Rating</th>\n",
       "      <th>User Ratings Total</th>\n",
       "    </tr>\n",
       "  </thead>\n",
       "  <tbody>\n",
       "    <tr>\n",
       "      <th>0</th>\n",
       "      <td>ChIJ-3wY7lEYQjERrJ9wTeoa-WQ</td>\n",
       "      <td>Blue Summer Hotel</td>\n",
       "      <td>35 Tôn Thất Đạm, Xuân Hà, Thanh Khê, Đà Nẵng 5...</td>\n",
       "      <td>16.072062</td>\n",
       "      <td>108.201392</td>\n",
       "      <td>['Monday: Open 24 hours', 'Tuesday: Open 24 ho...</td>\n",
       "      <td>['lodging', 'point_of_interest', 'establishment']</td>\n",
       "      <td>3.9</td>\n",
       "      <td>42.0</td>\n",
       "    </tr>\n",
       "    <tr>\n",
       "      <th>1</th>\n",
       "      <td>ChIJ-UBpozMYQjERDV3V1nrXEiM</td>\n",
       "      <td>Vinapha 2 Hotel</td>\n",
       "      <td>19 Phạm Hồng Thái, Hải Châu 1, Hải Châu, Đà Nẵ...</td>\n",
       "      <td>16.067351</td>\n",
       "      <td>108.221777</td>\n",
       "      <td>['Monday: 12:00\\u202fAM\\u2009–\\u200911:59\\u202...</td>\n",
       "      <td>['lodging', 'point_of_interest', 'establishment']</td>\n",
       "      <td>3.0</td>\n",
       "      <td>93.0</td>\n",
       "    </tr>\n",
       "    <tr>\n",
       "      <th>2</th>\n",
       "      <td>ChIJ13MshlIYQjERM4sqFu8lvyA</td>\n",
       "      <td>Ribo Coffee</td>\n",
       "      <td>05 Thái Thị Bôi, Chính Gián, Thanh Khê, Đà Nẵn...</td>\n",
       "      <td>16.068272</td>\n",
       "      <td>108.201195</td>\n",
       "      <td>['Monday: 6:30\\u202fAM\\u2009–\\u200910:30\\u202f...</td>\n",
       "      <td>['cafe', 'food', 'point_of_interest', 'establi...</td>\n",
       "      <td>4.1</td>\n",
       "      <td>306.0</td>\n",
       "    </tr>\n",
       "    <tr>\n",
       "      <th>3</th>\n",
       "      <td>ChIJ14kOf8kZQjERrdrrQPpiZKA</td>\n",
       "      <td>Mì Quảng Thi</td>\n",
       "      <td>251 Hoàng Diệu, Nam Dương, Hải Châu, Đà Nẵng 5...</td>\n",
       "      <td>16.058546</td>\n",
       "      <td>108.217224</td>\n",
       "      <td>['Monday: 6:00\\u202fAM\\u2009–\\u20091:29\\u202fP...</td>\n",
       "      <td>['restaurant', 'point_of_interest', 'food', 'e...</td>\n",
       "      <td>4.3</td>\n",
       "      <td>308.0</td>\n",
       "    </tr>\n",
       "    <tr>\n",
       "      <th>4</th>\n",
       "      <td>ChIJ2aT3UqMXQjER_rVaqCoyyWU</td>\n",
       "      <td>Chùa Linh Ứng</td>\n",
       "      <td>Vườn Lâm Tỳ Ni, Hoàng Sa, Thọ Quang, Sơn Trà, ...</td>\n",
       "      <td>16.100261</td>\n",
       "      <td>108.277747</td>\n",
       "      <td>['Monday: Open 24 hours', 'Tuesday: Open 24 ho...</td>\n",
       "      <td>['place_of_worship', 'point_of_interest', 'est...</td>\n",
       "      <td>4.7</td>\n",
       "      <td>1785.0</td>\n",
       "    </tr>\n",
       "  </tbody>\n",
       "</table>\n",
       "</div>"
      ],
      "text/plain": [
       "                            ID               Name  \\\n",
       "0  ChIJ-3wY7lEYQjERrJ9wTeoa-WQ  Blue Summer Hotel   \n",
       "1  ChIJ-UBpozMYQjERDV3V1nrXEiM    Vinapha 2 Hotel   \n",
       "2  ChIJ13MshlIYQjERM4sqFu8lvyA        Ribo Coffee   \n",
       "3  ChIJ14kOf8kZQjERrdrrQPpiZKA       Mì Quảng Thi   \n",
       "4  ChIJ2aT3UqMXQjER_rVaqCoyyWU      Chùa Linh Ứng   \n",
       "\n",
       "                                             Address   Latitude   Longitude  \\\n",
       "0  35 Tôn Thất Đạm, Xuân Hà, Thanh Khê, Đà Nẵng 5...  16.072062  108.201392   \n",
       "1  19 Phạm Hồng Thái, Hải Châu 1, Hải Châu, Đà Nẵ...  16.067351  108.221777   \n",
       "2  05 Thái Thị Bôi, Chính Gián, Thanh Khê, Đà Nẵn...  16.068272  108.201195   \n",
       "3  251 Hoàng Diệu, Nam Dương, Hải Châu, Đà Nẵng 5...  16.058546  108.217224   \n",
       "4  Vườn Lâm Tỳ Ni, Hoàng Sa, Thọ Quang, Sơn Trà, ...  16.100261  108.277747   \n",
       "\n",
       "                                       Opening Hours  \\\n",
       "0  ['Monday: Open 24 hours', 'Tuesday: Open 24 ho...   \n",
       "1  ['Monday: 12:00\\u202fAM\\u2009–\\u200911:59\\u202...   \n",
       "2  ['Monday: 6:30\\u202fAM\\u2009–\\u200910:30\\u202f...   \n",
       "3  ['Monday: 6:00\\u202fAM\\u2009–\\u20091:29\\u202fP...   \n",
       "4  ['Monday: Open 24 hours', 'Tuesday: Open 24 ho...   \n",
       "\n",
       "                                               Types  Rating  \\\n",
       "0  ['lodging', 'point_of_interest', 'establishment']     3.9   \n",
       "1  ['lodging', 'point_of_interest', 'establishment']     3.0   \n",
       "2  ['cafe', 'food', 'point_of_interest', 'establi...     4.1   \n",
       "3  ['restaurant', 'point_of_interest', 'food', 'e...     4.3   \n",
       "4  ['place_of_worship', 'point_of_interest', 'est...     4.7   \n",
       "\n",
       "   User Ratings Total  \n",
       "0                42.0  \n",
       "1                93.0  \n",
       "2               306.0  \n",
       "3               308.0  \n",
       "4              1785.0  "
      ]
     },
     "execution_count": 6,
     "metadata": {},
     "output_type": "execute_result"
    }
   ],
   "source": [
    "data = pd.read_csv('./data/FinalData.csv')\n",
    "data.head(5)"
   ]
  },
  {
   "cell_type": "code",
   "execution_count": 30,
   "metadata": {},
   "outputs": [
    {
     "data": {
      "text/html": [
       "<div>\n",
       "<style scoped>\n",
       "    .dataframe tbody tr th:only-of-type {\n",
       "        vertical-align: middle;\n",
       "    }\n",
       "\n",
       "    .dataframe tbody tr th {\n",
       "        vertical-align: top;\n",
       "    }\n",
       "\n",
       "    .dataframe thead th {\n",
       "        text-align: right;\n",
       "    }\n",
       "</style>\n",
       "<table border=\"1\" class=\"dataframe\">\n",
       "  <thead>\n",
       "    <tr style=\"text-align: right;\">\n",
       "      <th></th>\n",
       "      <th>ID</th>\n",
       "      <th>Name</th>\n",
       "      <th>Latitude</th>\n",
       "      <th>Longitude</th>\n",
       "    </tr>\n",
       "  </thead>\n",
       "  <tbody>\n",
       "    <tr>\n",
       "      <th>0</th>\n",
       "      <td>ChIJ-3wY7lEYQjERrJ9wTeoa-WQ</td>\n",
       "      <td>Blue Summer Hotel</td>\n",
       "      <td>16.072062</td>\n",
       "      <td>108.201392</td>\n",
       "    </tr>\n",
       "    <tr>\n",
       "      <th>1</th>\n",
       "      <td>ChIJ-UBpozMYQjERDV3V1nrXEiM</td>\n",
       "      <td>Vinapha 2 Hotel</td>\n",
       "      <td>16.067351</td>\n",
       "      <td>108.221777</td>\n",
       "    </tr>\n",
       "    <tr>\n",
       "      <th>2</th>\n",
       "      <td>ChIJ13MshlIYQjERM4sqFu8lvyA</td>\n",
       "      <td>Ribo Coffee</td>\n",
       "      <td>16.068272</td>\n",
       "      <td>108.201195</td>\n",
       "    </tr>\n",
       "    <tr>\n",
       "      <th>3</th>\n",
       "      <td>ChIJ14kOf8kZQjERrdrrQPpiZKA</td>\n",
       "      <td>Mì Quảng Thi</td>\n",
       "      <td>16.058546</td>\n",
       "      <td>108.217224</td>\n",
       "    </tr>\n",
       "    <tr>\n",
       "      <th>4</th>\n",
       "      <td>ChIJ2aT3UqMXQjER_rVaqCoyyWU</td>\n",
       "      <td>Chùa Linh Ứng</td>\n",
       "      <td>16.100261</td>\n",
       "      <td>108.277747</td>\n",
       "    </tr>\n",
       "  </tbody>\n",
       "</table>\n",
       "</div>"
      ],
      "text/plain": [
       "                            ID               Name   Latitude   Longitude\n",
       "0  ChIJ-3wY7lEYQjERrJ9wTeoa-WQ  Blue Summer Hotel  16.072062  108.201392\n",
       "1  ChIJ-UBpozMYQjERDV3V1nrXEiM    Vinapha 2 Hotel  16.067351  108.221777\n",
       "2  ChIJ13MshlIYQjERM4sqFu8lvyA        Ribo Coffee  16.068272  108.201195\n",
       "3  ChIJ14kOf8kZQjERrdrrQPpiZKA       Mì Quảng Thi  16.058546  108.217224\n",
       "4  ChIJ2aT3UqMXQjER_rVaqCoyyWU      Chùa Linh Ứng  16.100261  108.277747"
      ]
     },
     "execution_count": 30,
     "metadata": {},
     "output_type": "execute_result"
    }
   ],
   "source": [
    "newData = data.loc[:, [\"ID\", \"Name\", \"Latitude\", \"Longitude\"]]\n",
    "newData.head(5)"
   ]
  },
  {
   "cell_type": "code",
   "execution_count": 8,
   "metadata": {},
   "outputs": [
    {
     "name": "stdout",
     "output_type": "stream",
     "text": [
      "[4150.351815264258, 3486.6128351985317, 3762.323346766885, 2438.5081041174953, 9658.007237869939, 828.9167576180388, 3550.787885575698, 6477.550545285755, 3457.4845923560965, 4396.124059032522, 3507.498128935771, 3228.8610191784524, 3854.084098272399, 3217.834132732924, 6004.192909844544, 17142.78503319649, 2221.535610606195, 4425.607636858624, 2736.4020175409746, 2621.63780684999, 3246.373996729055, 4160.277030117694, 9402.655726378282, 2909.4622366453173, 376.523585219424, 1710.2115876878165, 2741.416020206157, 4462.173666782588, 1308.674090972021, 2226.4231088502224, 1149.312187756929, 9741.646893117742, 2895.633999426664, 4220.089221390587, 2760.023245903595, 4420.3288200433835, 2945.4323075196357, 1514.0506635031709, 5093.468930044527, 3443.682913113074, 1721.3719325832692, 3054.827129053294, 3011.2497258656554, 3767.9478789039695, 3350.6995520646788, 1050.244970806684, 1794.0901673475967, 4331.209887131008, 24926.280915593943, 2776.8850183183536, 4877.31912787833, 12332.167745056242, 3543.2413258702168, 3050.9640528609248, 3552.5887641345057, 2478.036793958581, 3129.6322900963455, 3533.18600371215, 2143.925284867501, 3438.928567438793, 3552.569049505972, 1667.865968615613, 2809.239154496948, 2484.748647435728, 1332.5097105972418, 3269.8378271498136, 3500.7741403438285, 26973.678445217032, 4265.786806601436, 2950.7372465910057, 3621.2224248397324, 2012.4536366891884, 3469.9141117406357, 777.4966189132205, 19926.941066741365, 3703.908445898171, 1366.3040698554196, 4294.356880208592, 5716.1438959189845, 6509.531639680134, 2001.1469596059671, 2664.4150722327254, 3713.9301846514054, 3454.5610437807404, 3043.1330001614165, 9631.304258352431, 2319.8862244608977, 2427.1764482273024, 4218.893941539306, 1841.8144149148795, 25377.259200121272, 3241.0278237181083, 3731.891347732971, 9634.907004474813, 3724.357568471938, 3443.091579299563, 9748.792584121882, 3475.89970655761, 3285.15835370691, 7175.1260124998635, 2430.1407399808063, 3129.9918651945054, 3702.263382823651, 3269.1844320216296, 1625.0800925984033, 2097.7053931095274, 2530.696647006763, 3042.869443370336, 2141.6142416236357, 3994.46177529747, 3770.531170249219, 2810.437943712166, 2737.9804130108546, 3471.967511690342, 3035.2416441764226, 3184.528910148455, 3089.477934072878, 2682.7284073324563, 3397.8138559371564, 2463.8055778294975, 3158.256703932779, 3320.9813311297153, 4481.3162481022655, 2894.982294799115, 3297.310822242642, 1541.644155057362, 3802.6920797933108, 3068.015243211074, 4157.8059275626065, 4905.459544445967, 6879.222652941306, 1365.7406144658032, 1337.9329368560768, 21573.73461214217, 1689.9945366426784, 1789.4987963915664, 3377.865676075698, 11896.063259642739, 969.1857538843698, 1207.0240361072244, 4164.803033534154, 3343.337749072768, 3835.625706872999, 4035.6519291741693, 1826.0450923184114, 2822.2069835389007, 4251.023719497872, 3575.9418162447582, 4163.167018510153, 6716.284959101516, 2226.787760980114, 3336.708203791948, 22063.094803512497, 3125.570225505629, 3174.568923560838, 2809.327964106087, 23576.306900277126, 3314.092315266581, 2547.551485700458, 3342.2811113854564, 1208.8772899875169]\n"
     ]
    }
   ],
   "source": [
    "listDist = []\n",
    "for index in range(len(newData)):\n",
    "    row = newData.iloc[index]\n",
    "    lat = row['Latitude']\n",
    "    lng = row['Longitude']\n",
    "    dist = haversine_distance(latInit, lngInit, lat, lng)\n",
    "    listDist.append(dist)\n",
    "print(listDist)\n"
   ]
  },
  {
   "cell_type": "code",
   "execution_count": 39,
   "metadata": {},
   "outputs": [
    {
     "name": "stdout",
     "output_type": "stream",
     "text": [
      "[(16.036783384151843, 108.21435304207014), (16.0401447, 108.2139202), (16.0434839, 108.212239), (16.0436901, 108.2173205), (16.0472421, 108.2174295), (16.0486814, 108.217581), (16.0503829, 108.2150664), (16.0487675, 108.2132138), (16.0515234, 108.2114104), (16.05241, 108.2102764), (16.0524158, 108.2101211), (16.036783384151843, 108.21435304207014)]\n",
      "['Cloudy', 'Nhà Hàng Tuyên Sơn 2', 'Homestay Xì Trum', 'Mì Quảng Giao Thủy', 'Nhà sàn Bác Hồ', 'Ho Chi Minh Museum', 'WIN WIN HOSTEL', 'Cơm gà Lan', 'King Garden Hotel', 'Nibika Hotel', 'Bamboo Hotel', 'Cloudy']\n",
      "[0, 25, 74, 6, 140, 132, 38, 133, 62, 136, 47, 0]\n"
     ]
    }
   ],
   "source": [
    "start_point = (latInit, lngInit)\n",
    "\n",
    "route = []\n",
    "visited = []\n",
    "current_point = start_point\n",
    "\n",
    "listNames = [\"Cloudy\"]\n",
    "indexes = [0]\n",
    "visited.append(current_point)\n",
    "route.append(current_point)\n",
    "\n",
    "while len(visited) < 11:\n",
    "    min_distance = float('inf')\n",
    "    next_point = None\n",
    "    name = None\n",
    "    index = 0\n",
    "    for i, row in newData.iterrows():\n",
    "        lat = row['Latitude']\n",
    "        lng = row['Longitude']\n",
    "        if (lat, lng) not in visited:\n",
    "            dist = haversine_distance(current_point[0], current_point[1], lat, lng)\n",
    "            if dist < min_distance:\n",
    "                min_distance = dist\n",
    "                next_point = (lat, lng)\n",
    "                name = row['Name']\n",
    "                index = i + 1\n",
    "    if next_point is not None:\n",
    "        current_point = next_point\n",
    "        visited.append(current_point)\n",
    "        route.append(current_point)\n",
    "        listNames.append(name)\n",
    "        indexes.append(index)\n",
    "\n",
    "endpoint = start_point\n",
    "visited.append(endpoint)\n",
    "listNames.append(\"Cloudy\")\n",
    "indexes.append(0)\n",
    "\n",
    "print(visited)\n",
    "print(listNames)\n",
    "print(indexes)\n"
   ]
  },
  {
   "cell_type": "code",
   "execution_count": 40,
   "metadata": {},
   "outputs": [
    {
     "data": {
      "text/plain": [
       "[1, 2, 3, 4, 5, 6, 7, 8, 9, 10]"
      ]
     },
     "execution_count": 40,
     "metadata": {},
     "output_type": "execute_result"
    }
   ],
   "source": [
    "listSamples = list(range(1, len(listNames) - 1))\n",
    "listSamples"
   ]
  },
  {
   "cell_type": "code",
   "execution_count": 41,
   "metadata": {},
   "outputs": [
    {
     "data": {
      "text/plain": [
       "[[0, 47, 74, 62, 38, 6, 136, 133, 25, 132, 140, 0],\n",
       " [0, 25, 140, 133, 47, 38, 74, 136, 6, 62, 132, 0],\n",
       " [0, 74, 6, 25, 132, 62, 133, 140, 47, 136, 38, 0],\n",
       " [0, 133, 38, 6, 47, 136, 140, 132, 74, 62, 25, 0],\n",
       " [0, 136, 62, 25, 47, 6, 38, 140, 132, 133, 74, 0],\n",
       " [0, 132, 136, 140, 74, 62, 6, 38, 133, 47, 25, 0],\n",
       " [0, 38, 25, 132, 133, 136, 74, 6, 140, 62, 47, 0],\n",
       " [0, 6, 74, 132, 25, 136, 140, 38, 47, 133, 62, 0],\n",
       " [0, 47, 6, 140, 136, 133, 38, 74, 25, 62, 132, 0],\n",
       " [0, 132, 25, 62, 6, 74, 136, 140, 133, 47, 38, 0],\n",
       " [0, 133, 140, 25, 6, 74, 47, 136, 38, 132, 62, 0],\n",
       " [0, 136, 47, 25, 6, 62, 140, 74, 133, 38, 132, 0],\n",
       " [0, 25, 74, 47, 136, 132, 133, 140, 6, 62, 38, 0],\n",
       " [0, 74, 133, 38, 25, 62, 47, 136, 6, 132, 140, 0],\n",
       " [0, 136, 47, 133, 132, 74, 62, 140, 25, 38, 6, 0],\n",
       " [0, 47, 74, 140, 38, 62, 6, 136, 133, 132, 25, 0],\n",
       " [0, 140, 47, 25, 6, 133, 74, 38, 132, 62, 136, 0],\n",
       " [0, 25, 74, 136, 140, 132, 38, 47, 6, 133, 62, 0],\n",
       " [0, 38, 25, 136, 132, 74, 47, 133, 6, 62, 140, 0],\n",
       " [0, 136, 140, 25, 74, 47, 38, 132, 62, 6, 133, 0]]"
      ]
     },
     "execution_count": 41,
     "metadata": {},
     "output_type": "execute_result"
    }
   ],
   "source": [
    "listRoutes = []\n",
    "listIndexes = []\n",
    "for i in range(20):\n",
    "    listRandoms = random.sample(listSamples, len(listSamples))\n",
    "    newRoute = [visited[0]] + [visited[i] for i in listRandoms] + [visited[-1]]\n",
    "    newIndex = [indexes[0]] + [indexes[i] for i in listRandoms] + [indexes[-1]]\n",
    "    listRoutes.append(newRoute)\n",
    "    listIndexes.append(newIndex)\n",
    "listRoutes\n",
    "listIndexes\n"
   ]
  },
  {
   "cell_type": "code",
   "execution_count": null,
   "metadata": {},
   "outputs": [],
   "source": []
  }
 ],
 "metadata": {
  "kernelspec": {
   "display_name": "Python 3",
   "language": "python",
   "name": "python3"
  },
  "language_info": {
   "codemirror_mode": {
    "name": "ipython",
    "version": 3
   },
   "file_extension": ".py",
   "mimetype": "text/x-python",
   "name": "python",
   "nbconvert_exporter": "python",
   "pygments_lexer": "ipython3",
   "version": "3.10.6"
  },
  "orig_nbformat": 4
 },
 "nbformat": 4,
 "nbformat_minor": 2
}
