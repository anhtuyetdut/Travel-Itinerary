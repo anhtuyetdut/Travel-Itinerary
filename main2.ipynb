{
 "cells": [
  {
   "cell_type": "code",
   "execution_count": 2,
   "metadata": {},
   "outputs": [],
   "source": [
    "import math\n",
    "import pandas as pd\n",
    "import random\n",
    "import numpy as np\n",
    "import requests\n",
    "from random import sample, shuffle\n",
    "import matplotlib.pyplot as plt\n",
    "from datetime import datetime\n",
    "import calendar\n",
    "from pyDOE2 import fullfact\n",
    "from typing import List, Dict, Tuple, Any"
   ]
  },
  {
   "cell_type": "code",
   "execution_count": 3,
   "metadata": {},
   "outputs": [
    {
     "data": {
      "text/html": [
       "<div>\n",
       "<style scoped>\n",
       "    .dataframe tbody tr th:only-of-type {\n",
       "        vertical-align: middle;\n",
       "    }\n",
       "\n",
       "    .dataframe tbody tr th {\n",
       "        vertical-align: top;\n",
       "    }\n",
       "\n",
       "    .dataframe thead th {\n",
       "        text-align: right;\n",
       "    }\n",
       "</style>\n",
       "<table border=\"1\" class=\"dataframe\">\n",
       "  <thead>\n",
       "    <tr style=\"text-align: right;\">\n",
       "      <th></th>\n",
       "      <th>ID</th>\n",
       "      <th>Name</th>\n",
       "      <th>Address</th>\n",
       "      <th>Latitude</th>\n",
       "      <th>Longitude</th>\n",
       "      <th>Opening Hours</th>\n",
       "      <th>Types</th>\n",
       "      <th>Rating</th>\n",
       "      <th>User Ratings Total</th>\n",
       "    </tr>\n",
       "  </thead>\n",
       "  <tbody>\n",
       "    <tr>\n",
       "      <th>0</th>\n",
       "      <td>ChIJ-3wY7lEYQjERrJ9wTeoa-WQ</td>\n",
       "      <td>Blue Summer Hotel</td>\n",
       "      <td>35 Tôn Thất Đạm, Xuân Hà, Thanh Khê, Đà Nẵng 5...</td>\n",
       "      <td>16.072062</td>\n",
       "      <td>108.201392</td>\n",
       "      <td>['Monday: Open 24 hours', 'Tuesday: Open 24 ho...</td>\n",
       "      <td>['lodging', 'point_of_interest', 'establishment']</td>\n",
       "      <td>3.9</td>\n",
       "      <td>42.0</td>\n",
       "    </tr>\n",
       "    <tr>\n",
       "      <th>1</th>\n",
       "      <td>ChIJ-UBpozMYQjERDV3V1nrXEiM</td>\n",
       "      <td>Vinapha 2 Hotel</td>\n",
       "      <td>19 Phạm Hồng Thái, Hải Châu 1, Hải Châu, Đà Nẵ...</td>\n",
       "      <td>16.067351</td>\n",
       "      <td>108.221777</td>\n",
       "      <td>['Monday: 12:00\\u202fAM\\u2009–\\u200911:59\\u202...</td>\n",
       "      <td>['lodging', 'point_of_interest', 'establishment']</td>\n",
       "      <td>3.0</td>\n",
       "      <td>93.0</td>\n",
       "    </tr>\n",
       "    <tr>\n",
       "      <th>2</th>\n",
       "      <td>ChIJ13MshlIYQjERM4sqFu8lvyA</td>\n",
       "      <td>Ribo Coffee</td>\n",
       "      <td>05 Thái Thị Bôi, Chính Gián, Thanh Khê, Đà Nẵn...</td>\n",
       "      <td>16.068272</td>\n",
       "      <td>108.201195</td>\n",
       "      <td>['Monday: 6:30\\u202fAM\\u2009–\\u200910:30\\u202f...</td>\n",
       "      <td>['cafe', 'food', 'point_of_interest', 'establi...</td>\n",
       "      <td>4.1</td>\n",
       "      <td>306.0</td>\n",
       "    </tr>\n",
       "    <tr>\n",
       "      <th>3</th>\n",
       "      <td>ChIJ14kOf8kZQjERrdrrQPpiZKA</td>\n",
       "      <td>Mì Quảng Thi</td>\n",
       "      <td>251 Hoàng Diệu, Nam Dương, Hải Châu, Đà Nẵng 5...</td>\n",
       "      <td>16.058546</td>\n",
       "      <td>108.217224</td>\n",
       "      <td>['Monday: 6:00\\u202fAM\\u2009–\\u20091:29\\u202fP...</td>\n",
       "      <td>['restaurant', 'point_of_interest', 'food', 'e...</td>\n",
       "      <td>4.3</td>\n",
       "      <td>308.0</td>\n",
       "    </tr>\n",
       "    <tr>\n",
       "      <th>4</th>\n",
       "      <td>ChIJ2aT3UqMXQjER_rVaqCoyyWU</td>\n",
       "      <td>Chùa Linh Ứng</td>\n",
       "      <td>Vườn Lâm Tỳ Ni, Hoàng Sa, Thọ Quang, Sơn Trà, ...</td>\n",
       "      <td>16.100261</td>\n",
       "      <td>108.277747</td>\n",
       "      <td>['Monday: Open 24 hours', 'Tuesday: Open 24 ho...</td>\n",
       "      <td>['place_of_worship', 'point_of_interest', 'est...</td>\n",
       "      <td>4.7</td>\n",
       "      <td>1785.0</td>\n",
       "    </tr>\n",
       "  </tbody>\n",
       "</table>\n",
       "</div>"
      ],
      "text/plain": [
       "                            ID               Name  \\\n",
       "0  ChIJ-3wY7lEYQjERrJ9wTeoa-WQ  Blue Summer Hotel   \n",
       "1  ChIJ-UBpozMYQjERDV3V1nrXEiM    Vinapha 2 Hotel   \n",
       "2  ChIJ13MshlIYQjERM4sqFu8lvyA        Ribo Coffee   \n",
       "3  ChIJ14kOf8kZQjERrdrrQPpiZKA       Mì Quảng Thi   \n",
       "4  ChIJ2aT3UqMXQjER_rVaqCoyyWU      Chùa Linh Ứng   \n",
       "\n",
       "                                             Address   Latitude   Longitude  \\\n",
       "0  35 Tôn Thất Đạm, Xuân Hà, Thanh Khê, Đà Nẵng 5...  16.072062  108.201392   \n",
       "1  19 Phạm Hồng Thái, Hải Châu 1, Hải Châu, Đà Nẵ...  16.067351  108.221777   \n",
       "2  05 Thái Thị Bôi, Chính Gián, Thanh Khê, Đà Nẵn...  16.068272  108.201195   \n",
       "3  251 Hoàng Diệu, Nam Dương, Hải Châu, Đà Nẵng 5...  16.058546  108.217224   \n",
       "4  Vườn Lâm Tỳ Ni, Hoàng Sa, Thọ Quang, Sơn Trà, ...  16.100261  108.277747   \n",
       "\n",
       "                                       Opening Hours  \\\n",
       "0  ['Monday: Open 24 hours', 'Tuesday: Open 24 ho...   \n",
       "1  ['Monday: 12:00\\u202fAM\\u2009–\\u200911:59\\u202...   \n",
       "2  ['Monday: 6:30\\u202fAM\\u2009–\\u200910:30\\u202f...   \n",
       "3  ['Monday: 6:00\\u202fAM\\u2009–\\u20091:29\\u202fP...   \n",
       "4  ['Monday: Open 24 hours', 'Tuesday: Open 24 ho...   \n",
       "\n",
       "                                               Types  Rating  \\\n",
       "0  ['lodging', 'point_of_interest', 'establishment']     3.9   \n",
       "1  ['lodging', 'point_of_interest', 'establishment']     3.0   \n",
       "2  ['cafe', 'food', 'point_of_interest', 'establi...     4.1   \n",
       "3  ['restaurant', 'point_of_interest', 'food', 'e...     4.3   \n",
       "4  ['place_of_worship', 'point_of_interest', 'est...     4.7   \n",
       "\n",
       "   User Ratings Total  \n",
       "0                42.0  \n",
       "1                93.0  \n",
       "2               306.0  \n",
       "3               308.0  \n",
       "4              1785.0  "
      ]
     },
     "execution_count": 3,
     "metadata": {},
     "output_type": "execute_result"
    }
   ],
   "source": [
    "data = pd.read_csv('./data/FinalData.csv')\n",
    "data.head(5)"
   ]
  },
  {
   "cell_type": "code",
   "execution_count": 4,
   "metadata": {},
   "outputs": [
    {
     "data": {
      "text/html": [
       "<div>\n",
       "<style scoped>\n",
       "    .dataframe tbody tr th:only-of-type {\n",
       "        vertical-align: middle;\n",
       "    }\n",
       "\n",
       "    .dataframe tbody tr th {\n",
       "        vertical-align: top;\n",
       "    }\n",
       "\n",
       "    .dataframe thead th {\n",
       "        text-align: right;\n",
       "    }\n",
       "</style>\n",
       "<table border=\"1\" class=\"dataframe\">\n",
       "  <thead>\n",
       "    <tr style=\"text-align: right;\">\n",
       "      <th></th>\n",
       "      <th>ID</th>\n",
       "      <th>Name</th>\n",
       "      <th>Latitude</th>\n",
       "      <th>Longitude</th>\n",
       "    </tr>\n",
       "  </thead>\n",
       "  <tbody>\n",
       "    <tr>\n",
       "      <th>0</th>\n",
       "      <td>ChIJ-3wY7lEYQjERrJ9wTeoa-WQ</td>\n",
       "      <td>Blue Summer Hotel</td>\n",
       "      <td>16.072062</td>\n",
       "      <td>108.201392</td>\n",
       "    </tr>\n",
       "    <tr>\n",
       "      <th>1</th>\n",
       "      <td>ChIJ-UBpozMYQjERDV3V1nrXEiM</td>\n",
       "      <td>Vinapha 2 Hotel</td>\n",
       "      <td>16.067351</td>\n",
       "      <td>108.221777</td>\n",
       "    </tr>\n",
       "    <tr>\n",
       "      <th>2</th>\n",
       "      <td>ChIJ13MshlIYQjERM4sqFu8lvyA</td>\n",
       "      <td>Ribo Coffee</td>\n",
       "      <td>16.068272</td>\n",
       "      <td>108.201195</td>\n",
       "    </tr>\n",
       "    <tr>\n",
       "      <th>3</th>\n",
       "      <td>ChIJ14kOf8kZQjERrdrrQPpiZKA</td>\n",
       "      <td>Mì Quảng Thi</td>\n",
       "      <td>16.058546</td>\n",
       "      <td>108.217224</td>\n",
       "    </tr>\n",
       "    <tr>\n",
       "      <th>4</th>\n",
       "      <td>ChIJ2aT3UqMXQjER_rVaqCoyyWU</td>\n",
       "      <td>Chùa Linh Ứng</td>\n",
       "      <td>16.100261</td>\n",
       "      <td>108.277747</td>\n",
       "    </tr>\n",
       "  </tbody>\n",
       "</table>\n",
       "</div>"
      ],
      "text/plain": [
       "                            ID               Name   Latitude   Longitude\n",
       "0  ChIJ-3wY7lEYQjERrJ9wTeoa-WQ  Blue Summer Hotel  16.072062  108.201392\n",
       "1  ChIJ-UBpozMYQjERDV3V1nrXEiM    Vinapha 2 Hotel  16.067351  108.221777\n",
       "2  ChIJ13MshlIYQjERM4sqFu8lvyA        Ribo Coffee  16.068272  108.201195\n",
       "3  ChIJ14kOf8kZQjERrdrrQPpiZKA       Mì Quảng Thi  16.058546  108.217224\n",
       "4  ChIJ2aT3UqMXQjER_rVaqCoyyWU      Chùa Linh Ứng  16.100261  108.277747"
      ]
     },
     "execution_count": 4,
     "metadata": {},
     "output_type": "execute_result"
    }
   ],
   "source": [
    "newData = data.loc[:, [\"ID\", \"Name\", \"Latitude\", \"Longitude\"]]\n",
    "newData.head(5)"
   ]
  },
  {
   "cell_type": "code",
   "execution_count": 5,
   "metadata": {},
   "outputs": [],
   "source": [
    "#Cloudy Phan Dang Luu\n",
    "latInit = 16.019110655988168\n",
    "lngInit = 108.22903420822459"
   ]
  },
  {
   "cell_type": "code",
   "execution_count": 6,
   "metadata": {},
   "outputs": [],
   "source": [
    "def haversineDistance(lat1, lng1, lat2, lng2):\n",
    "    latRadian1 = math.radians(lat1)\n",
    "    lngRadian1 = math.radians(lng1)\n",
    "    latRadian2 = math.radians(lat2)\n",
    "    lngRadian2 = math.radians(lng2)\n",
    "\n",
    "    dlat = latRadian2 - latRadian1\n",
    "    dlng = lngRadian2 - lngRadian1\n",
    "    R = 6371e3\n",
    "\n",
    "    a = math.sin(dlat/2) ** 2 + math.cos(latRadian1) * math.cos(latRadian2) * math.sin(dlng/2) ** 2\n",
    "    c = 2 * math.atan2(math.sqrt(a), math.sqrt(1-a))\n",
    "    \n",
    "    return R * c"
   ]
  },
  {
   "cell_type": "code",
   "execution_count": 7,
   "metadata": {},
   "outputs": [],
   "source": [
    "def calFitness(routeDistance: float):\n",
    "    return 1/(routeDistance + 1)"
   ]
  },
  {
   "cell_type": "code",
   "execution_count": 8,
   "metadata": {},
   "outputs": [],
   "source": [
    "class Location:\n",
    "    def __init__(self, x: float, y: float) -> None:\n",
    "        self.x = x\n",
    "        self.y =y\n",
    "\n",
    "    def to_tupl(self) -> Tuple:\n",
    "        return (self.x, self.y)"
   ]
  },
  {
   "cell_type": "code",
   "execution_count": 9,
   "metadata": {},
   "outputs": [],
   "source": [
    "class Route:\n",
    "    def __init__(self, route: List['Location']) -> None:\n",
    "        self.route = route\n",
    "        self.distance: float = 0.0\n",
    "        self.fitness: float = 0.0\n",
    "    \n",
    "    def routeDistance(self) -> float:\n",
    "        if self.distance == 0: \n",
    "            pathDistance = 0.0  \n",
    "            for index in range(0, len(self.route) - 1):\n",
    "                dist = haversineDistance(self.route[index].x, self.route[index].y, self.route[index + 1].x, self.route[index + 1].y)\n",
    "                pathDistance+= dist\n",
    "            self.distance = pathDistance\n",
    "        return self.distance\n",
    "    \n",
    "    def routeFitness(self) -> float:\n",
    "        if self.fitness == 0:\n",
    "            self.fitness = calFitness(self.routeDistance())\n",
    "        return self.fitness\n",
    "    \n",
    "    def coordinates(self) -> Tuple[List[float], List[float]]:\n",
    "        x_list, y_list = [], []\n",
    "        for location in self.route:\n",
    "            x_list.append(location.to_tupl()[0])\n",
    "            y_list.append(location.to_tupl()[1])\n",
    "        return x_list, y_list"
   ]
  },
  {
   "cell_type": "code",
   "execution_count": 52,
   "metadata": {},
   "outputs": [],
   "source": [
    "def nearestNeighborAlgorithm(data, n = 21):\n",
    "    startPoint = (latInit, lngInit)\n",
    "    listPoints = []\n",
    "    listDetailsPoint = []\n",
    "\n",
    "    currentPoint = startPoint\n",
    "    listPoints.append(currentPoint)\n",
    "    detailsPoint = [ 0, 'Cloudy', currentPoint]\n",
    "    listDetailsPoint.append(detailsPoint)\n",
    "\n",
    "    while(len(listPoints) < n):\n",
    "        minDistance = float('inf')\n",
    "        nextPoint = None\n",
    "        name = None\n",
    "        index = 0\n",
    "\n",
    "        for i , row in data.iterrows():\n",
    "            \n",
    "            lat = row['Latitude']\n",
    "            lng = row['Longitude']\n",
    "            if(lat, lng) not in listPoints:\n",
    "                dist = haversineDistance(currentPoint[0], currentPoint[1], lat, lng)\n",
    "                \n",
    "                if dist < minDistance:\n",
    "                    minDistance = dist\n",
    "                    nextPoint = (lat, lng)\n",
    "                    name = row['Name']\n",
    "                    index = i + 1\n",
    "            \n",
    "        if nextPoint is not None:\n",
    "            currentPoint = nextPoint\n",
    "            listPoints.append(currentPoint)\n",
    "            detailsNewPoint = [index, name, currentPoint]\n",
    "            listDetailsPoint.append(detailsNewPoint)\n",
    "\n",
    "    endPoint = startPoint\n",
    "    listPoints.append(endPoint)\n",
    "    listDetailsPoint.append(detailsPoint)\n",
    "\n",
    "    return listPoints, listDetailsPoint"
   ]
  },
  {
   "cell_type": "code",
   "execution_count": 11,
   "metadata": {},
   "outputs": [],
   "source": [
    "def initPopulation(populationSize: int, listInitLocations: List = None) -> List[List['Location']]:\n",
    "    population = []\n",
    "\n",
    "    listSamples = list(range(1, len(listInitLocations) - 1))\n",
    "\n",
    "    for _ in range(populationSize):\n",
    "        if listInitLocations is not None:\n",
    "            listRandoms = random.sample(listSamples, len(listSamples))\n",
    "            newLocation = [listInitLocations[0]] + [listInitLocations[i] for i in listRandoms] + [listInitLocations[-1]]\n",
    "\n",
    "            population.append(newLocation)\n",
    "\n",
    "    return population"
   ]
  },
  {
   "cell_type": "code",
   "execution_count": 12,
   "metadata": {},
   "outputs": [],
   "source": [
    "def rankRoutes(population: List[List['Location']]) -> List[Tuple[int, float]]:\n",
    "    fitnessResults: Dict = {}\n",
    "    for i in range(len(population)):\n",
    "        fitnessResults[i] = Route(population[i]).routeFitness()\n",
    "\n",
    "    return sorted(fitnessResults.items(), key=lambda x: x[1], reverse=True)"
   ]
  },
  {
   "cell_type": "code",
   "execution_count": 13,
   "metadata": {},
   "outputs": [],
   "source": [
    "def touramentSelection(populationRanked: List[Tuple[int, float]], numElites: int = 0):\n",
    "    df = pd.DataFrame(np.array(populationRanked), columns=[\"Index\", \"Fitness\"])\n",
    "    df[\"weights\"] = 100 * df.Fitness / df.Fitness.sum()\n",
    "    selection_results = df.sample(n=len(populationRanked)-numElites,\n",
    "                                  replace=True,\n",
    "                                  weights=df.weights\n",
    "                                  ).values[:, 0]\n",
    "    elite_results = df.iloc[0:numElites, 0].values\n",
    "    selection_results = list(map(int, np.concatenate(\n",
    "        (selection_results, elite_results)).tolist()))\n",
    "    return selection_results"
   ]
  },
  {
   "cell_type": "code",
   "execution_count": 14,
   "metadata": {},
   "outputs": [],
   "source": [
    "def mergedPoint(population: List[List['Location']], selection_results: List[int]) -> List[List['Location']]:\n",
    "    output: List = []\n",
    "    for i in range(len(selection_results)):\n",
    "        index = selection_results[i]\n",
    "        output.append(population[index])\n",
    "    return output"
   ]
  },
  {
   "cell_type": "code",
   "execution_count": 15,
   "metadata": {},
   "outputs": [],
   "source": [
    "def crossoverMix(parent1: List['Location'], parent2: List['Location']):\n",
    "    point1, point2 = random.sample(range(1, len(parent1)-1), 2)\n",
    "    begin = min(point1, point2)\n",
    "    end = max(point1, point2)\n",
    "\n",
    "    child1_begin = parent1[:begin]\n",
    "    child1_end = parent1[end:]\n",
    "\n",
    "    child1 = child1_begin + child1_end\n",
    "    child2 = parent2[begin:end+1]\n",
    "\n",
    "    child1_remain = [item for item in parent2[1:-1] if item not in child1]\n",
    "    child2_remain = [item for item in parent1[1:-1] if item not in child2]\n",
    "\n",
    "    child1 = child1_begin + child1_remain + child1_end\n",
    "    child2 += child2_remain\n",
    "\n",
    "    child2.insert(0, parent2[0])\n",
    "    child2.append(parent2[0])\n",
    "\n",
    "    return child1, child2"
   ]
  },
  {
   "cell_type": "code",
   "execution_count": 16,
   "metadata": {},
   "outputs": [],
   "source": [
    "def crossoverPopulation(mergedPoint: List[List['Location']], numElites: int = 0):\n",
    "    children: List = []\n",
    "    numNonElite = len(mergedPoint) - numElites\n",
    "\n",
    "    individuals = random.sample(mergedPoint, len(mergedPoint))\n",
    "\n",
    "    for i in range(1, numElites + 1):\n",
    "        children.append(mergedPoint[-i])\n",
    "\n",
    "    for i in range(0, numNonElite):\n",
    "        child1, child2 = crossoverMix(individuals[i], individuals[len(mergedPoint) -i -1])\n",
    "        children.append(child1)\n",
    "\n",
    "    return children"
   ]
  },
  {
   "cell_type": "code",
   "execution_count": 18,
   "metadata": {},
   "outputs": [],
   "source": [
    "def mutation(individual: List['Location'], mutationRate):\n",
    "    if random.random() < mutationRate:\n",
    "        mutation_index_1, mutation_index_2 = random.sample(range(1, len(individual) - 1), 2)\n",
    "        begin = min(mutation_index_1, mutation_index_2)\n",
    "        end = max(mutation_index_1, mutation_index_2)\n",
    "\n",
    "        individual_begin = individual[:begin]\n",
    "        individual_end = individual[end+1:]\n",
    "\n",
    "        individual_center = individual[begin:end+1]\n",
    "        individual_center.reverse()\n",
    "        \n",
    "        individual = individual_begin + individual_center + individual_end\n",
    "\n",
    "    return individual"
   ]
  },
  {
   "cell_type": "code",
   "execution_count": 19,
   "metadata": {},
   "outputs": [],
   "source": [
    "def mutatePopulation(children: List[List['Location']], mutationRate: float = 0):\n",
    "    mutatedPopulation: List = []\n",
    "\n",
    "    for individual in range(0, len(children)):\n",
    "        mutatedIndividual = mutation(children[individual], mutationRate)\n",
    "        mutatedPopulation.append(mutatedIndividual)\n",
    "    return mutatedPopulation"
   ]
  },
  {
   "cell_type": "code",
   "execution_count": 20,
   "metadata": {},
   "outputs": [],
   "source": [
    "def nextGeneration(currentGen: List[List['Location']], numElites: int, mutationRate: float = 0):\n",
    "    populationRanked = rankRoutes(currentGen)\n",
    "\n",
    "    bestCurrentGenRoute = Route(currentGen[populationRanked[0][0]])\n",
    "    bestCurrentGenFitness = bestCurrentGenRoute.routeFitness()\n",
    "    bestCurrentGenDistance = bestCurrentGenRoute.routeDistance()\n",
    "\n",
    "    selectionResults = touramentSelection(populationRanked, numElites)\n",
    "    individuals = mergedPoint(currentGen, selectionResults)\n",
    "    children = crossoverPopulation(individuals, numElites)\n",
    "    nextGeneration = mutatePopulation(children)\n",
    "\n",
    "    return nextGeneration, bestCurrentGenRoute, bestCurrentGenFitness, bestCurrentGenDistance"
   ]
  },
  {
   "cell_type": "code",
   "execution_count": 21,
   "metadata": {},
   "outputs": [],
   "source": [
    "def geneticAlgorithm(populationSize: int, numElites: int, numGens: int, mutationRate: float = 0.005, listInitLocations: List = None):\n",
    "    population = initPopulation(populationSize, listInitLocations)\n",
    "    bestInitialRoute = Route(population[rankRoutes(population)[0][0]])\n",
    "    print(\"Initial Distance: \" + str(bestInitialRoute.routeDistance()))\n",
    "\n",
    "    bestRouteByGen: List = []\n",
    "    bestFitnessByGen: List = []\n",
    "    bestDistanceByGen: List = []\n",
    "\n",
    "    for _ in range(0, numGens):\n",
    "        population, bestCurrentGenRoute, bestCurrentGenFitness, bestCurrentGenDistance = \\\n",
    "            nextGeneration(population, numElites, mutationRate)\n",
    "        \n",
    "        bestRouteByGen.append(bestCurrentGenRoute)\n",
    "        bestFitnessByGen.append(bestCurrentGenFitness)\n",
    "        bestDistanceByGen.append(bestCurrentGenDistance)\n",
    "\n",
    "    bestFinalRoute = Route(population[rankRoutes(population)[0][0]])\n",
    "    print(\"Final Distance: \" + str(bestFinalRoute.routeDistance()))\n",
    "\n",
    "    params = [populationSize,  numElites, numGens, mutationRate, listInitLocations]\n",
    "    return bestFinalRoute, bestInitialRoute, bestFitnessByGen, bestDistanceByGen, params"
   ]
  },
  {
   "cell_type": "code",
   "execution_count": 53,
   "metadata": {},
   "outputs": [
    {
     "data": {
      "text/plain": [
       "[(16.019110655988168, 108.22903420822459),\n",
       " (16.0359504, 108.2242925),\n",
       " (16.0385547, 108.2233731),\n",
       " (16.0387805, 108.2254072),\n",
       " (16.0383924, 108.2266751),\n",
       " (16.0404534, 108.2283843),\n",
       " (16.0410321, 108.2243161),\n",
       " (16.0411297, 108.2227389),\n",
       " (16.0442346, 108.2227286),\n",
       " (16.046858, 108.2212214),\n",
       " (16.049417, 108.2233),\n",
       " (16.0490718, 108.2241468),\n",
       " (16.0483415, 108.2267041),\n",
       " (16.0510826, 108.2290629),\n",
       " (16.0503877, 108.2299175),\n",
       " (16.0563483, 108.2220345),\n",
       " (16.0581055, 108.2232435),\n",
       " (16.0603007, 108.2232677),\n",
       " (16.062867, 108.2231386),\n",
       " (16.0634798, 108.2236939),\n",
       " (16.0635161, 108.2237119),\n",
       " (16.019110655988168, 108.22903420822459)]"
      ]
     },
     "execution_count": 53,
     "metadata": {},
     "output_type": "execute_result"
    }
   ],
   "source": [
    "listPoints, listDetailsPoint = nearestNeighborAlgorithm(newData)\n",
    "listPoints"
   ]
  },
  {
   "cell_type": "code",
   "execution_count": 54,
   "metadata": {},
   "outputs": [],
   "source": [
    "listInitalLocations = [Location(i[0], i[1]) for i in listPoints]"
   ]
  },
  {
   "cell_type": "code",
   "execution_count": 55,
   "metadata": {},
   "outputs": [
    {
     "name": "stdout",
     "output_type": "stream",
     "text": [
      "Initial Distance: 20559.404132257143\n",
      "Final Distance: 11100.430110863534\n"
     ]
    }
   ],
   "source": [
    "bfr, brbg, bfbg, bdbg, params = geneticAlgorithm(3000, 500, 50, 0.005, listInitalLocations)"
   ]
  },
  {
   "cell_type": "code",
   "execution_count": 56,
   "metadata": {},
   "outputs": [
    {
     "name": "stdout",
     "output_type": "stream",
     "text": [
      "Initial Distance: 19900.92248781633\n",
      "Final Distance: 11286.64703651945\n",
      "Initial Distance: 20403.98422941765\n",
      "Final Distance: 11103.41619494684\n",
      "Initial Distance: 19423.38174081048\n",
      "Final Distance: 11100.430110863534\n",
      "Initial Distance: 21174.149002271926\n",
      "Final Distance: 11100.430110863534\n",
      "Initial Distance: 17694.137317152854\n",
      "Final Distance: 11246.480832159146\n",
      "Initial Distance: 20860.871314232347\n",
      "Final Distance: 11103.41619494684\n",
      "Initial Distance: 20885.763669775883\n",
      "Final Distance: 11100.430110863534\n",
      "Initial Distance: 18018.44326100298\n",
      "Final Distance: 11100.430110863534\n",
      "Initial Distance: 19243.109123399114\n",
      "Final Distance: 11161.461741717378\n",
      "Initial Distance: 19490.565592898238\n",
      "Final Distance: 11248.576101273155\n",
      "Initial Distance: 20097.282773065912\n",
      "Final Distance: 11100.430110863534\n",
      "Initial Distance: 20414.390440170908\n",
      "Final Distance: 11103.41619494684\n",
      "Initial Distance: 20964.674181412192\n",
      "Final Distance: 11100.430110863534\n",
      "Initial Distance: 18614.967402875263\n",
      "Final Distance: 11100.430110863534\n",
      "Initial Distance: 19072.063598697037\n",
      "Final Distance: 11440.554301516908\n",
      "Initial Distance: 17837.063176924727\n",
      "Final Distance: 11414.921298307578\n",
      "Initial Distance: 19706.97568789711\n",
      "Final Distance: 11100.430110863534\n",
      "Initial Distance: 19754.887150279214\n",
      "Final Distance: 11121.015896280613\n",
      "Initial Distance: 18426.92518730497\n",
      "Final Distance: 11104.739755242297\n",
      "Initial Distance: 19127.84774881378\n",
      "Final Distance: 11100.430110863534\n",
      "Initial Distance: 17507.8111650936\n",
      "Final Distance: 11286.64703651945\n",
      "Initial Distance: 18239.629833746505\n",
      "Final Distance: 11296.800016468147\n",
      "Initial Distance: 19877.98515739993\n",
      "Final Distance: 11103.41619494684\n",
      "Initial Distance: 19130.753063016848\n",
      "Final Distance: 11100.430110863534\n",
      "Initial Distance: 19194.224451549064\n",
      "Final Distance: 11100.430110863534\n",
      "Initial Distance: 20063.241761093195\n",
      "Final Distance: 11157.966380934096\n",
      "Initial Distance: 20898.784785761578\n",
      "Final Distance: 11436.365229325607\n",
      "Initial Distance: 20915.998397640633\n",
      "Final Distance: 11103.41619494684\n",
      "Initial Distance: 19932.633569349207\n",
      "Final Distance: 11100.430110863534\n",
      "Initial Distance: 20188.227545907153\n",
      "Final Distance: 11103.41619494684\n",
      "Initial Distance: 19484.907676739196\n",
      "Final Distance: 11157.966380934096\n",
      "Initial Distance: 19105.74346488071\n",
      "Final Distance: 11103.41619494684\n",
      "Initial Distance: 20518.345162418846\n",
      "Final Distance: 11100.430110863534\n",
      "Initial Distance: 20632.92813343663\n",
      "Final Distance: 11100.430110863534\n",
      "Initial Distance: 19330.691217648404\n",
      "Final Distance: 11100.430110863534\n",
      "Initial Distance: 17492.35952347556\n",
      "Final Distance: 11100.430110863534\n",
      "Initial Distance: 20241.851932518846\n",
      "Final Distance: 11100.430110863534\n",
      "Initial Distance: 20656.345406497574\n",
      "Final Distance: 11100.430110863534\n",
      "Initial Distance: 20349.60694310453\n",
      "Final Distance: 11100.430110863534\n",
      "Initial Distance: 20905.2926906074\n",
      "Final Distance: 11103.41619494684\n",
      "Initial Distance: 19484.464654505122\n",
      "Final Distance: 11100.430110863534\n",
      "Initial Distance: 18174.258386016045\n",
      "Final Distance: 11100.430110863534\n",
      "Initial Distance: 19745.733037116217\n",
      "Final Distance: 11296.800016468147\n",
      "Initial Distance: 20869.083742836396\n",
      "Final Distance: 11124.001980363919\n",
      "Initial Distance: 19637.25562861702\n",
      "Final Distance: 11116.434603338856\n",
      "Initial Distance: 20534.693822818812\n",
      "Final Distance: 11103.41619494684\n",
      "Initial Distance: 20940.151506218263\n",
      "Final Distance: 11100.430110863534\n",
      "Initial Distance: 19034.315478963937\n",
      "Final Distance: 11100.430110863534\n",
      "Initial Distance: 17891.018078704208\n",
      "Final Distance: 11100.430110863534\n",
      "Initial Distance: 20753.779455743243\n",
      "Final Distance: 11103.41619494684\n",
      "Initial Distance: 19806.42459200495\n",
      "Final Distance: 11286.64703651945\n",
      "Initial Distance: 19851.24383936474\n",
      "Final Distance: 11100.430110863534\n",
      "Initial Distance: 18763.122741631174\n",
      "Final Distance: 11161.461741717378\n",
      "Initial Distance: 18393.924574920988\n",
      "Final Distance: 11100.430110863534\n",
      "Initial Distance: 20041.40316687534\n",
      "Final Distance: 11100.430110863534\n",
      "Initial Distance: 19060.34940390194\n",
      "Final Distance: 11100.430110863534\n",
      "Initial Distance: 19384.16105728372\n",
      "Final Distance: 11246.480832159146\n",
      "Initial Distance: 20880.42528098119\n",
      "Final Distance: 11306.39417608523\n",
      "Initial Distance: 19008.21628127734\n",
      "Final Distance: 11100.430110863534\n",
      "Initial Distance: 19442.767318124985\n",
      "Final Distance: 11153.522978782066\n",
      "Initial Distance: 18344.823626340654\n",
      "Final Distance: 11100.430110863534\n",
      "Initial Distance: 19442.260012776234\n",
      "Final Distance: 11100.430110863534\n",
      "Initial Distance: 18860.034210481215\n",
      "Final Distance: 11430.764957950047\n",
      "Initial Distance: 18630.324423592305\n",
      "Final Distance: 11100.430110863534\n",
      "Initial Distance: 19484.303856204984\n",
      "Final Distance: 11103.41619494684\n",
      "Initial Distance: 19920.178863318797\n",
      "Final Distance: 11100.430110863534\n",
      "Initial Distance: 19351.445787331424\n",
      "Final Distance: 11100.430110863534\n",
      "Initial Distance: 19346.971446403448\n",
      "Final Distance: 11351.957658017103\n",
      "Initial Distance: 19674.72061639366\n",
      "Final Distance: 11509.84090610318\n",
      "Initial Distance: 18482.03624019208\n",
      "Final Distance: 11100.430110863534\n",
      "Initial Distance: 19426.982057236328\n",
      "Final Distance: 11435.790866857318\n",
      "Initial Distance: 19911.540198822855\n",
      "Final Distance: 11100.430110863534\n",
      "Initial Distance: 19669.370132963748\n",
      "Final Distance: 11100.430110863534\n",
      "Initial Distance: 18760.087634812637\n",
      "Final Distance: 11100.430110863534\n",
      "Initial Distance: 19067.010529734347\n",
      "Final Distance: 11100.430110863534\n",
      "Initial Distance: 20099.046119162762\n",
      "Final Distance: 11116.434603338856\n",
      "Initial Distance: 20242.139255945236\n",
      "Final Distance: 11100.430110863534\n",
      "Initial Distance: 19866.96479135219\n",
      "Final Distance: 11100.430110863534\n",
      "Initial Distance: 18234.334443130192\n",
      "Final Distance: 11166.54138717408\n",
      "Initial Distance: 18674.181616917962\n",
      "Final Distance: 11185.216009085727\n",
      "Initial Distance: 18478.910193075382\n",
      "Final Distance: 11117.758163634311\n",
      "Initial Distance: 19737.4710457353\n",
      "Final Distance: 11487.105252770993\n",
      "Initial Distance: 21120.967765626596\n",
      "Final Distance: 11286.64703651945\n",
      "Initial Distance: 19829.710601431543\n",
      "Final Distance: 11100.430110863534\n",
      "Initial Distance: 19529.1302263594\n",
      "Final Distance: 11248.576101273155\n",
      "Initial Distance: 19415.014288021932\n",
      "Final Distance: 11153.522978782066\n",
      "Initial Distance: 18819.060491892375\n",
      "Final Distance: 11100.430110863534\n",
      "Initial Distance: 20576.199253541407\n",
      "Final Distance: 11286.64703651945\n",
      "Initial Distance: 17478.351930535024\n",
      "Final Distance: 11425.4420900476\n",
      "Initial Distance: 20765.625728032253\n",
      "Final Distance: 11100.430110863534\n",
      "Initial Distance: 20343.823563771828\n",
      "Final Distance: 11242.75227915629\n",
      "Initial Distance: 17439.86556764089\n",
      "Final Distance: 11100.430110863534\n",
      "Initial Distance: 20923.851380725842\n",
      "Final Distance: 11100.430110863534\n",
      "Initial Distance: 19351.32097290418\n",
      "Final Distance: 11157.966380934096\n",
      "Initial Distance: 19847.043614898692\n",
      "Final Distance: 11137.020388755935\n",
      "Initial Distance: 19388.573419071374\n",
      "Final Distance: 11100.430110863534\n",
      "Initial Distance: 20754.609088474997\n",
      "Final Distance: 11103.41619494684\n",
      "Initial Distance: 19141.06354473705\n",
      "Final Distance: 11441.688097228054\n",
      "Initial Distance: 18739.341503961467\n",
      "Final Distance: 11100.430110863534\n",
      "Initial Distance: 15519.191498329817\n",
      "Final Distance: 11148.257429928828\n"
     ]
    }
   ],
   "source": [
    "bestDistanceByMutation = []\n",
    "i = 0.001\n",
    "while(i <= 0.3):\n",
    "    bfr, brbg, bfbg, bdbg, params = geneticAlgorithm(3000, 500, 50, i, listInitalLocations)\n",
    "    bestDistanceByMutation.append(bfr.routeDistance())\n",
    "    i += 0.003\n"
   ]
  },
  {
   "cell_type": "code",
   "execution_count": null,
   "metadata": {},
   "outputs": [],
   "source": [
    "bestDistanceByMutation = []\n",
    "i = 0.001\n",
    "while(i <= 0.3):\n",
    "    bfr, brbg, bfbg, bdbg, params = geneticAlgorithm(3000, 500, 50, i, listInitalLocations)\n",
    "    bestDistanceByMutation.append(bfr.routeDistance())\n",
    "    i += 0.002"
   ]
  },
  {
   "cell_type": "code",
   "execution_count": 28,
   "metadata": {},
   "outputs": [
    {
     "data": {
      "image/png": "[encoded data removed]",
      "text/plain": [
       "<Figure size 432x288 with 1 Axes>"
      ]
     },
     "metadata": {
      "needs_background": "light"
     },
     "output_type": "display_data"
    }
   ],
   "source": [
    "x, y = bfr.coordinates()\n",
    "plt.plot(x, y, **{'color': 'lightsteelblue', 'marker': 'o'})\n",
    "plt.show()"
   ]
  },
  {
   "cell_type": "code",
   "execution_count": 29,
   "metadata": {},
   "outputs": [],
   "source": [
    "def distancePlot(bestDistanceByGen: List[int], params: List):\n",
    "    plt.plot(bestDistanceByGen)\n",
    "    plt.ylabel('Distance')\n",
    "    plt.xlabel('Generation')\n",
    "    s = \"popSize: \" + str(params[0]) + \"\\nnumCities: \" + str(params[1]) + \\\n",
    "        \"\\nnumGens: \" + str(params[3]) + \"\\nmutationRate: \" + str(params[4])\n",
    "    # plt.text(s)\n",
    "    # plt.text(0, bestDistanceByGen[0], round(bestDistanceByGen[0],1))\n",
    "    plt.text(len(bestDistanceByGen),\n",
    "             bestDistanceByGen[-1], round(bestDistanceByGen[-1],1))\n",
    "    plt.show()"
   ]
  },
  {
   "cell_type": "code",
   "execution_count": 30,
   "metadata": {},
   "outputs": [
    {
     "data": {
      "image/png": "[encoded data removed]",
      "text/plain": [
       "<Figure size 432x288 with 1 Axes>"
      ]
     },
     "metadata": {
      "needs_background": "light"
     },
     "output_type": "display_data"
    }
   ],
   "source": [
    "distancePlot(bdbg, params)"
   ]
  },
  {
   "cell_type": "code",
   "execution_count": 35,
   "metadata": {},
   "outputs": [],
   "source": [
    "def fitnessePlot(bestDistanceByFitness: List[int], xAxis: List[int], params: List):\n",
    "    plt.plot(xAxis, bestDistanceByFitness)\n",
    "    plt.ylabel('Distance')\n",
    "    plt.xlabel('Generation')\n",
    "    s = \"popSize: \" + str(params[0]) + \"\\nnumCities: \" + str(params[1]) + \\\n",
    "        \"\\nnumGens: \" + str(params[3]) + \"\\nmutationRate: \" + str(params[4])\n",
    "    # plt.text(s)\n",
    "    # plt.text(0, bestDistanceByFitness[0], round(bestDistanceByFitness[0],1))\n",
    "    # plt.text(len(bestDistanceByFitness),\n",
    "            #  bestDistanceByFitness[-1], round(bestDistanceByFitness[-1],1))\n",
    "    plt.show()"
   ]
  },
  {
   "cell_type": "code",
   "execution_count": 36,
   "metadata": {},
   "outputs": [
    {
     "name": "stdout",
     "output_type": "stream",
     "text": [
      "299\n",
      "299\n"
     ]
    },
    {
     "data": {
      "image/png": "[encoded data removed]",
      "text/plain": [
       "<Figure size 432x288 with 1 Axes>"
      ]
     },
     "metadata": {
      "needs_background": "light"
     },
     "output_type": "display_data"
    }
   ],
   "source": [
    "i = 0.001\n",
    "xAxis = []\n",
    "while(i <= 0.3):\n",
    "    xAxis.append(i)\n",
    "    i += 0.001\n",
    "print(len(bestDistanceByMutation))\n",
    "print(len(xAxis))\n",
    "fitnessePlot(bestDistanceByMutation, xAxis, params)"
   ]
  },
  {
   "cell_type": "code",
   "execution_count": 51,
   "metadata": {},
   "outputs": [
    {
     "name": "stdout",
     "output_type": "stream",
     "text": [
      "100\n",
      "100\n"
     ]
    },
    {
     "data": {
      "image/png": "[encoded data removed]",
      "text/plain": [
       "<Figure size 432x288 with 1 Axes>"
      ]
     },
     "metadata": {
      "needs_background": "light"
     },
     "output_type": "display_data"
    }
   ],
   "source": [
    "i = 0.001\n",
    "xAxis = []\n",
    "while(i <= 0.3):\n",
    "    xAxis.append(i)\n",
    "    i += 0.003\n",
    "print(len(bestDistanceByMutation))\n",
    "print(len(xAxis))\n",
    "fitnessePlot(bestDistanceByMutation, xAxis, params)"
   ]
  },
  {
   "cell_type": "code",
   "execution_count": 57,
   "metadata": {},
   "outputs": [
    {
     "name": "stdout",
     "output_type": "stream",
     "text": [
      "100\n",
      "100\n"
     ]
    },
    {
     "data": {
      "image/png": "[encoded data removed]",
      "text/plain": [
       "<Figure size 432x288 with 1 Axes>"
      ]
     },
     "metadata": {
      "needs_background": "light"
     },
     "output_type": "display_data"
    }
   ],
   "source": [
    "i = 0.001\n",
    "xAxis = []\n",
    "while(i <= 0.3):\n",
    "    xAxis.append(i)\n",
    "    i += 0.003\n",
    "print(len(bestDistanceByMutation))\n",
    "print(len(xAxis))\n",
    "fitnessePlot(bestDistanceByMutation, xAxis, params)"
   ]
  }
 ],
 "metadata": {
  "kernelspec": {
   "display_name": "Python 3",
   "language": "python",
   "name": "python3"
  },
  "language_info": {
   "codemirror_mode": {
    "name": "ipython",
    "version": 3
   },
   "file_extension": ".py",
   "mimetype": "text/x-python",
   "name": "python",
   "nbconvert_exporter": "python",
   "pygments_lexer": "ipython3",
   "version": "3.8.8"
  },
  "orig_nbformat": 4
 },
 "nbformat": 4,
 "nbformat_minor": 2
}
